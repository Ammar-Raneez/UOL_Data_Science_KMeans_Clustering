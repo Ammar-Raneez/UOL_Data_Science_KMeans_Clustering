{
 "cells": [
  {
   "cell_type": "code",
   "execution_count": 12,
   "metadata": {},
   "outputs": [
    {
     "data": {
      "image/png": "[encoded data removed]",
      "text/plain": [
       "<Figure size 432x288 with 1 Axes>"
      ]
     },
     "metadata": {},
     "output_type": "display_data"
    }
   ],
   "source": [
    "import matplotlib.pyplot as mp\n",
    "import numpy as np\n",
    "\n",
    "xs = [10, 100, 25, 67, 74]\n",
    "ys = [125, 26, 66, 1, 10]\n",
    "xs = np.array(xs)\n",
    "ys = np.array(ys)\n",
    "mp.scatter(xs, ys)  #single variable method\n",
    "mp.show()"
   ]
  },
  {
   "cell_type": "code",
   "execution_count": 11,
   "metadata": {},
   "outputs": [
    {
     "data": {
      "image/png": "[encoded data removed]",
      "text/plain": [
       "<Figure size 432x288 with 1 Axes>"
      ]
     },
     "metadata": {},
     "output_type": "display_data"
    }
   ],
   "source": [
    "import matplotlib.pyplot as mp\n",
    "import numpy as np\n",
    "\n",
    "xys = [[10, 125], [100, 26], [25, 66], [67, 1], [74, 10]]\n",
    "xys = np.array(xys)\n",
    "#print(xys[:,0])  #prints out only the first column values\n",
    "#print(xys[:,1]) #prints our the second column\n",
    "\n",
    "mp.scatter(xys[:,0], xys[:,1])  #both together - more lean\n",
    "mp.show()"
   ]
  },
  {
   "cell_type": "code",
   "execution_count": 15,
   "metadata": {},
   "outputs": [
    {
     "name": "stdout",
     "output_type": "stream",
     "text": [
      "55.2 45.6\n"
     ]
    }
   ],
   "source": [
    "import matplotlib.pyplot as mp\n",
    "import numpy as np\n",
    "\n",
    "xys = [[10, 125], [100, 26], [25, 66], [67, 1], [74, 10]]\n",
    "xys = np.array(xys)\n",
    "\n",
    "x_mean = np.mean(xys[:,0])\n",
    "y_mean = np.mean(xys[:,1])\n",
    "print(x_mean, y_mean)"
   ]
  },
  {
   "cell_type": "code",
   "execution_count": 18,
   "metadata": {},
   "outputs": [
    {
     "name": "stdout",
     "output_type": "stream",
     "text": [
      "[55.2 45.6]\n",
      "55.2 45.6\n"
     ]
    }
   ],
   "source": [
    "import matplotlib.pyplot as mp\n",
    "import numpy as np\n",
    "\n",
    "xys = [[10, 125], [100, 26], [25, 66], [67, 1], [74, 10]]\n",
    "xys = np.array(xys)\n",
    "\n",
    "#print(xys.mean(0)) #column-wise, cuz 0 NOT 1, mean, [x_mean, y_mean] produced\n",
    "\n",
    "x_mean = np.mean(xys[:,0])\n",
    "y_mean = np.mean(xys[:,1])\n",
    "print(x_mean, y_mean)   #x and y mean"
   ]
  },
  {
   "cell_type": "code",
   "execution_count": 19,
   "metadata": {},
   "outputs": [
    {
     "name": "stdout",
     "output_type": "stream",
     "text": [
      "[55.2 45.6]\n"
     ]
    }
   ],
   "source": [
    "import matplotlib.pyplot as mp\n",
    "import numpy as np\n",
    "\n",
    "xys = [[10, 125], [100, 26], [25, 66], [67, 1], [74, 10]]\n",
    "xys = np.array(xys)\n",
    "\n",
    "print(xys.mean(0))  #lean method (0 - column wise mean, 1 - row wise mean)"
   ]
  },
  {
   "cell_type": "code",
   "execution_count": 2,
   "metadata": {
    "scrolled": true
   },
   "outputs": [
    {
     "data": {
      "image/png": "[encoded data removed]",
      "text/plain": [
       "<Figure size 432x288 with 1 Axes>"
      ]
     },
     "metadata": {},
     "output_type": "display_data"
    }
   ],
   "source": [
    "import matplotlib.pyplot as mp\n",
    "import matplotlib.patches as patches\n",
    "import numpy as np\n",
    "\n",
    "xys = [[10, 125], [100, 26], [25, 66], [67, 1], [74, 10]]\n",
    "xys = np.array(xys)\n",
    "\n",
    "mean = np.mean(xys, 0)  #holds mean of the x and y values  [55.2 45.6]\n",
    "sd = np.std(xys, 0)     #holds sd of the x and y values, 0 is passed to that column-wise is taken\n",
    "\n",
    "ellipse = patches.Ellipse([mean[0], mean[1]], sd[0]*2, sd[1]*2, alpha=0.3)\n",
    "\n",
    "fig, graph = mp.subplots()  #needed to add overlays\n",
    "\n",
    "mp.scatter(xys[:,0], xys[:,1])\n",
    "mp.scatter(mean[0], mean[1])  #mean point\n",
    "graph.add_patch(ellipse)\n",
    "mp.show()"
   ]
  },
  {
   "cell_type": "code",
   "execution_count": 18,
   "metadata": {},
   "outputs": [
    {
     "name": "stdout",
     "output_type": "stream",
     "text": [
      "125.00167117172208\n"
     ]
    }
   ],
   "source": [
    "#distance between a point and the mean, to determine to which cluster does the point belong to\n",
    "import matplotlib.pyplot as mp\n",
    "import numpy as np\n",
    "\n",
    "xys = [[10, 125], [100, 26], [25, 66], [67, 1], [74, 10]]\n",
    "\n",
    "dist1 = np.linalg.norm(xys[0] - mean)    #euclidian distance between first point and the mean\n",
    "print(dist1)"
   ]
  },
  {
   "cell_type": "code",
   "execution_count": 19,
   "metadata": {},
   "outputs": [
    {
     "name": "stdout",
     "output_type": "stream",
     "text": [
      "125.00167117172208\n"
     ]
    }
   ],
   "source": [
    "#if we want the distance between all points and the mean, we'll have to continuosly do the above for em all, luckily we can use a\n",
    "#list comprehension\n",
    "import matplotlib.pyplot as mp\n",
    "import matplotlib.patches as patches\n",
    "import numpy as np\n",
    "\n",
    "a = [2, 4, 6, 8]\n",
    "b = [x+5 for x in a]    #add 5 for all elements in a and appends to a list\n",
    "\n",
    "\n",
    "xys = [[10, 125], [100, 26], [25, 66], [67, 1], [74, 10]]\n",
    "distances = [np.linalg.norm(xy - mean) for xy in xys]\n",
    "print(distances[0])"
   ]
  },
  {
   "cell_type": "code",
   "execution_count": 20,
   "metadata": {
    "scrolled": true
   },
   "outputs": [
    {
     "name": "stdout",
     "output_type": "stream",
     "text": [
      "[0.         1.         0.16666667 0.63333333 0.71111111]\n"
     ]
    }
   ],
   "source": [
    "#normalization, scale every data to a specific standard range. This is important to prevent scaling to come in the way of the \n",
    "#actual value. For example Engine size of car compared to CO2 emission, engine size maybe 10,000 ml, and carbon emitted is like\n",
    "#500g, so changing say 100 for each is different, to prevent this scaling we normalize\n",
    "import matplotlib.pyplot as mp\n",
    "import matplotlib.patches as patches\n",
    "import numpy as np\n",
    "xys = [[10, 125], [100, 26], [25, 66], [67, 1], [74, 10]]\n",
    "xys = np.array(xys)\n",
    "\n",
    "#domain standardization\n",
    "x_min = np.min(xys[:,0]) #min of first column\n",
    "x_max = np.max(xys[:,0])\n",
    "normalized_x = (xys[:,0] - x_min) / (x_max-x_min)\n",
    "print(normalized_x)"
   ]
  },
  {
   "cell_type": "code",
   "execution_count": 16,
   "metadata": {
    "scrolled": true
   },
   "outputs": [
    {
     "name": "stdout",
     "output_type": "stream",
     "text": [
      "[[0.         1.        ]\n",
      " [1.         0.2016129 ]\n",
      " [0.16666667 0.52419355]\n",
      " [0.63333333 0.        ]\n",
      " [0.71111111 0.07258065]]\n"
     ]
    }
   ],
   "source": [
    "#domain standardization of both x and y values\n",
    "\n",
    "import matplotlib.pyplot as mp\n",
    "import matplotlib.patches as patches\n",
    "import numpy as np\n",
    "xys = [[10, 125], [100, 26], [25, 66], [67, 1], [74, 10]]\n",
    "xys = np.array(xys)\n",
    "\n",
    "xy_min = np.min(xys, 0) \n",
    "xy_max = np.max(xys, 0)\n",
    "normalized = (xys - xy_min) / (xy_max-xy_min)\n",
    "print(normalized)"
   ]
  },
  {
   "cell_type": "code",
   "execution_count": 15,
   "metadata": {},
   "outputs": [
    {
     "data": {
      "image/png": "[encoded data removed]",
      "text/plain": [
       "<Figure size 432x288 with 1 Axes>"
      ]
     },
     "metadata": {},
     "output_type": "display_data"
    }
   ],
   "source": [
    "#normalized data plotting, data that is two standard deviations from the mean mustn't be discared, they're honestly interesting\n",
    "#as to how they were recorded\n",
    "import matplotlib.pyplot as mp\n",
    "import matplotlib.patches as patches\n",
    "import numpy as np\n",
    "\n",
    "xys = [[10, 125], [100, 26], [25, 66], [67, 1], [74, 10]]\n",
    "xys = np.array(xys)\n",
    "\n",
    "xy_min = np.min(xys, 0) \n",
    "xy_max = np.max(xys, 0)\n",
    "normalized = (xys - xy_min) / (xy_max-xy_min)\n",
    "\n",
    "mean = np.mean(normalized_x, 0)  \n",
    "sd = np.std(normalized_x, 0)   \n",
    "\n",
    "\n",
    "ellipse = patches.Ellipse([mean[0], mean[1]], sd[0]*2, sd[1]*2, alpha=0.3)\n",
    "\n",
    "fig, graph = mp.subplots()  \n",
    "\n",
    "mp.scatter(normalized[:,0], normalized[:,1])\n",
    "mp.scatter(mean[0], mean[1]) \n",
    "graph.add_patch(ellipse)\n",
    "mp.show()"
   ]
  },
  {
   "cell_type": "code",
   "execution_count": null,
   "metadata": {},
   "outputs": [],
   "source": []
  }
 ],
 "metadata": {
  "kernelspec": {
   "display_name": "Python 3",
   "language": "python",
   "name": "python3"
  },
  "language_info": {
   "codemirror_mode": {
    "name": "ipython",
    "version": 3
   },
   "file_extension": ".py",
   "mimetype": "text/x-python",
   "name": "python",
   "nbconvert_exporter": "python",
   "pygments_lexer": "ipython3",
   "version": "3.6.3"
  }
 },
 "nbformat": 4,
 "nbformat_minor": 2
}
